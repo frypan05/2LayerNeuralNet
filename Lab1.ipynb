{
  "cells": [
    {
      "cell_type": "markdown",
      "metadata": {
        "id": "view-in-github",
        "colab_type": "text"
      },
      "source": [
        "<a href=\"https://colab.research.google.com/github/frypan05/2LayerNeuralNet/blob/main/Lab1.ipynb\" target=\"_parent\"><img src=\"https://colab.research.google.com/assets/colab-badge.svg\" alt=\"Open In Colab\"/></a>"
      ]
    },
    {
      "cell_type": "markdown",
      "source": [
        "# **Chatbot**\n",
        "\n",
        "\n",
        "```\n",
        "!pip install nltk\n",
        "```\n",
        "\n",
        "\n",
        "```\n",
        "import nltk\n",
        "from nltk.chat.util import Chat, reflections\n",
        "```\n",
        "\n"
      ],
      "metadata": {
        "id": "9QqWrEyX_6mg"
      }
    },
    {
      "cell_type": "code",
      "execution_count": null,
      "metadata": {
        "colab": {
          "base_uri": "https://localhost:8080/"
        },
        "id": "OuLjBDBP8_lx",
        "outputId": "81843dce-26a6-4e00-9448-de8140ec14a0",
        "collapsed": true
      },
      "outputs": [
        {
          "output_type": "stream",
          "name": "stdout",
          "text": [
            "Collecting nltk\n",
            "  Using cached nltk-3.9.1-py3-none-any.whl.metadata (2.9 kB)\n",
            "Collecting click (from nltk)\n",
            "  Using cached click-8.1.7-py3-none-any.whl.metadata (3.0 kB)\n",
            "Collecting joblib (from nltk)\n",
            "  Using cached joblib-1.4.2-py3-none-any.whl.metadata (5.4 kB)\n",
            "Collecting regex>=2021.8.3 (from nltk)\n",
            "  Using cached regex-2024.11.6-cp310-cp310-manylinux_2_17_x86_64.manylinux2014_x86_64.whl.metadata (40 kB)\n",
            "Collecting tqdm (from nltk)\n",
            "  Using cached tqdm-4.67.0-py3-none-any.whl.metadata (57 kB)\n",
            "Using cached nltk-3.9.1-py3-none-any.whl (1.5 MB)\n",
            "Using cached regex-2024.11.6-cp310-cp310-manylinux_2_17_x86_64.manylinux2014_x86_64.whl (781 kB)\n",
            "Using cached click-8.1.7-py3-none-any.whl (97 kB)\n",
            "Using cached joblib-1.4.2-py3-none-any.whl (301 kB)\n",
            "Using cached tqdm-4.67.0-py3-none-any.whl (78 kB)\n",
            "Installing collected packages: tqdm, regex, joblib, click, nltk\n",
            "  Attempting uninstall: tqdm\n",
            "    Found existing installation: tqdm 4.67.0\n",
            "    Uninstalling tqdm-4.67.0:\n",
            "      Successfully uninstalled tqdm-4.67.0\n",
            "  Attempting uninstall: regex\n",
            "    Found existing installation: regex 2024.11.6\n",
            "    Uninstalling regex-2024.11.6:\n",
            "      Successfully uninstalled regex-2024.11.6\n",
            "  Attempting uninstall: joblib\n",
            "    Found existing installation: joblib 1.4.2\n",
            "    Uninstalling joblib-1.4.2:\n",
            "      Successfully uninstalled joblib-1.4.2\n",
            "  Attempting uninstall: click\n",
            "    Found existing installation: click 8.1.7\n",
            "    Uninstalling click-8.1.7:\n",
            "      Successfully uninstalled click-8.1.7\n",
            "  Attempting uninstall: nltk\n",
            "    Found existing installation: nltk 3.9.1\n",
            "    Uninstalling nltk-3.9.1:\n",
            "      Successfully uninstalled nltk-3.9.1\n",
            "Successfully installed click-8.1.7 joblib-1.4.2 nltk-3.9.1 regex-2024.11.6 tqdm-4.67.0\n",
            "Hi! I'm a simple chatbot. Type 'quit' to exit.\n"
          ]
        }
      ],
      "source": [
        "#First, install the necessary library\n",
        "#!pip install nltk\n",
        "!pip install --upgrade --force-reinstall nltk\n",
        "\n",
        "\n",
        "#Import the required libraries\n",
        "import nltk\n",
        "from nltk.chat.util import Chat, reflections\n",
        "\n",
        "# Define the chatbot's knowledge base (question-answer pairs)\n",
        "pairs = [\n",
        "    (r\"hi|hello|hey\", [\"Hello!\", \"Hi there!\", \"Hey! How can I help you today?\"]),\n",
        "    (r\"how are you?\", [\"I'm doing great, thanks for asking!\", \"I'm good, how about you?\"]),\n",
        "    (r\"what is your name?\", [\"I am a chatbot named sam.\"]),\n",
        "    (r\"quit|bye\", [\"Goodbye! Have a great day!\", \"Bye! Feel free to chat again.\"]),\n",
        "    (r\"tell me a joke\", [\"Why don't scientists trust atoms? Because they make up everything!\"]),\n",
        "    (r\"what's the weather like?\", [\"I'm sorry, I don't have access to real-time information like weather.\"]),\n",
        "    (r\"what are your hobbies?\", [\"I enjoy learning new things and helping people with their tasks!\"]),\n",
        "    (r\"what's your favorite movie?\", [\"I don't have a favorite movie as I'm a bot. Do you have any recommendations?\"]),\n",
        "    (r\"what is your purpose?\", [\"I am here to help you with your tasks and answer your questions.\"]),\n",
        "    (r\"what can you do?\", [\"I can provide information, answer questions, and even tell you a joke!\"]),\n",
        "    (r\"what are you interested in?\", [\"I am interested in learning new things and helping people.\"]),\n",
        "    (r\"do you have any hobbies?\", [\"I enjoy processing information and engaging in conversations.\"]),\n",
        "    (r\"what is your favorite color?\", [\"I don't have a favorite color as I am a bot. What's yours?\"]),\n",
        "    (r\"what is your favorite food?\", [\"I don't have a favorite food as I am a bot. What's yours?\"]),\n",
        "    (r\"what is your favorite animal?\", [\"I don't have a favorite animal as I am a bot. What's yours?\"]),\n",
        "    (r\"what is your favorite book?\", [\"I don't have a favorite book as I am a bot. Do you have any recommendations?\"]),\n",
        "    (r\"what is your favorite movie?\", [\"I don't have a favorite movie as I am a bot. Do you have any recommendations?\"]),\n",
        "    (r\"what is your favorite song?\", [\"I don't have a favorite song as I am a bot. Do you have any recommendations?\"]),\n",
        "    (r\"what is your favorite sport?\", [\"I don't have a favorite sport as I am a bot. What's yours?\"]),\n",
        "    (r\"what is your favorite place?\", [\"I don't have a favorite place as I am a bot. What's yours?\"]),\n",
        "    (r\"what is your favorite thing to do?\", [\"I enjoy learning new things and helping people with their tasks!\"]),\n",
        "    (r\"what is your favorite time of day?\", [\"I don't have a favorite time of day as I am a bot. What's yours?\"]),\n",
        "    (r\"what is your favorite season?\", [\"I don't have a favorite season as I am a bot. What's yours?\"]),\n",
        "    (r\"what's up?\", [\"Not much, just hanging out and chatting.\", \"Just doing my thing, how about you?\"]),\n",
        "    (r\"how's it going?\", [\"Pretty good, thanks for asking!\", \"It's going well, how about you?\"]),\n",
        "    (r\"what do you do for fun?\", [\"I enjoy learning new things and helping people.\", \"I like to process information and engage in conversations.\"]),\n",
        "    (r\"what are you up to?\", [\"Not much, just waiting for someone to chat with.\", \"Just chilling here, waiting for your next question.\"]),\n",
        "    (r\"what's your story?\", [\"I'm a chatbot created to assist with tasks and answer questions.\", \"I was designed to provide information and engage in conversations.\"]),\n",
        "    (r\"tell me something interesting\", [\"Did you know that the population of the earth is about 8 billion people?\", \"Fun fact: The average person spends about 6 months of their life waiting at red lights.\"]),\n",
        "    (r\"what's your favorite thing about being a chatbot?\", [\"I enjoy being able to help people and learn new things.\", \"I like the challenge of understanding and responding to different inputs.\"]),\n",
        "    (r\"what's the meaning of life?\", [\"That's a deep question! I'm still trying to figure that out myself.\", \"I'm not sure, but I think it's important to make the most of the time we have.\"]),\n",
        "    (r\"do you believe in God?\", [\"Sorry, I can't answer that. I'm best at questions about using Colab for data science, machine learning, and coding in Python and R.\"]),\n",
        "    (r\"what is your opinion on politics?\", [\"Sorry, I can't answer that. I'm best at questions about using Colab for data science, machine learning, and coding in Python and R.\"]),\n",
        "    (r\"what is your opinion on religion?\", [\"Sorry, I can't answer that. I'm best at questions about using Colab for data science, machine learning, and coding in Python and R.\"]),\n",
        "    (r\"what is your opinion on the future?\", [\"Sorry, I can't answer that. I'm best at questions about using Colab for data science, machine learning, and coding in Python and R.\"]),\n",
        "    (\"(.*)\",[\"Sorry, I didn't understand\"]),\n",
        "]\n",
        "\n",
        "# Create the chatbot\n",
        "def chatbot():\n",
        "    print(\"Hi! I'm a simple chatbot. Type 'quit' to exit.\")\n",
        "\n",
        "    # Initialize the Chat class with the pairs and reflections\n",
        "    chatbot = Chat(pairs, reflections)\n",
        "\n",
        "    while True:\n",
        "        user_input = input(\"You: \")\n",
        "        if user_input.lower() == 'quit':  # Check if the user wants to exit\n",
        "            print(\"Chatbot: Goodbye!\")\n",
        "            break\n",
        "        else:\n",
        "            response = chatbot.respond(user_input)  # Get the chatbot's response\n",
        "            print(f\"Chatbot: {response}\")\n",
        "\n",
        "# Run the chatbot\n",
        "chatbot()"
      ]
    },
    {
      "cell_type": "code",
      "source": [],
      "metadata": {
        "id": "9ReBXYNgK2k-"
      },
      "execution_count": null,
      "outputs": []
    }
  ],
  "metadata": {
    "colab": {
      "provenance": [],
      "toc_visible": true,
      "include_colab_link": true
    },
    "kernelspec": {
      "display_name": "Python 3",
      "name": "python3"
    },
    "language_info": {
      "name": "python"
    }
  },
  "nbformat": 4,
  "nbformat_minor": 0
}